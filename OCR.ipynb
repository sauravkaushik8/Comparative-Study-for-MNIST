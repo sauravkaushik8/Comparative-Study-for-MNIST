{
 "cells": [
  {
   "cell_type": "markdown",
   "metadata": {
    "slideshow": {
     "slide_type": "slide"
    }
   },
   "source": [
    "# Optical Character Recognition using Computer Vision\n",
    "\n",
    "##### Using MNIST DataSet of handwritten digits.\n",
    "\n",
    "#### By Saurav Kaushik & Manpreet Singh "
   ]
  },
  {
   "cell_type": "markdown",
   "metadata": {
    "slideshow": {
     "slide_type": "slide"
    }
   },
   "source": [
    "### PROJECT NAME: Optical Character Recognition using Computer Vision\n",
    "\n",
    "### TECNOLOGY USED: Python, K-Nearest Neighbours, Support Vctor Machines, Decesion Trees, Extra Tree Regressor, Random Forest, Gradient Boosting Machines, Tensorflow, Keras.\n",
    "\n",
    "### MENTOR NAME: Mr. Vibhor.\n",
    "\n",
    "### Student NAMES: Saurav Kaushik and Manpreet Singh. \n",
    "\n",
    "### ROLL NUMBER: 00496403113 and 03396403113. \n",
    "\n",
    "### EMAIL ID: sauravkaushik8@gmail.com and manpreetsingh1795@gmail.com.\n",
    "\n",
    "### CONTACT MOBILE NUMBER: +91-9711710851 and +91-9716181884"
   ]
  },
  {
   "cell_type": "markdown",
   "metadata": {
    "slideshow": {
     "slide_type": "slide"
    }
   },
   "source": [
    "# Problem Statement:\n",
    "\n",
    "### Comparitive study of various Machine learning algorithms on basis of accuracies and training time for Optical character recognition using MNIST Dataet."
   ]
  },
  {
   "cell_type": "markdown",
   "metadata": {
    "slideshow": {
     "slide_type": "slide"
    }
   },
   "source": [
    "# Two Types of Problems: \n",
    "\n",
    "# 1. Image Recognition (Not Well Defined) | Easy for Humans, Hard for Computers"
   ]
  },
  {
   "cell_type": "code",
   "execution_count": 1,
   "metadata": {
    "collapsed": false,
    "slideshow": {
     "slide_type": "subslide"
    }
   },
   "outputs": [
    {
     "data": {
      "text/html": [
       "<img src=\"https://lh5.ggpht.com/vuEsIAUPJGvdFiGrivXpbCLb-M9bxUTsGa0s5sbXNe-w_XPowdoa9OYC4xdxT30fwYY=h900\"/>"
      ],
      "text/plain": [
       "<IPython.core.display.Image object>"
      ]
     },
     "execution_count": 1,
     "metadata": {},
     "output_type": "execute_result"
    }
   ],
   "source": [
    "from IPython.display import Image\n",
    "from IPython.core.display import HTML \n",
    "Image(url= \"https://lh5.ggpht.com/vuEsIAUPJGvdFiGrivXpbCLb-M9bxUTsGa0s5sbXNe-w_XPowdoa9OYC4xdxT30fwYY=h900\")"
   ]
  },
  {
   "cell_type": "markdown",
   "metadata": {
    "slideshow": {
     "slide_type": "slide"
    }
   },
   "source": [
    "# Two Types of Problems: \n",
    "\n",
    "# 2. Solving equations (Well Defined) | Hard for Humans, Easy for Computers"
   ]
  },
  {
   "cell_type": "code",
   "execution_count": 2,
   "metadata": {
    "collapsed": false,
    "slideshow": {
     "slide_type": "subslide"
    }
   },
   "outputs": [
    {
     "data": {
      "text/html": [
       "<img src=\"http://blog.wolfram.com/data/uploads/2013/02/MakingCurves-Out39.png\"/>"
      ],
      "text/plain": [
       "<IPython.core.display.Image object>"
      ]
     },
     "execution_count": 2,
     "metadata": {},
     "output_type": "execute_result"
    }
   ],
   "source": [
    "from IPython.display import Image\n",
    "from IPython.core.display import HTML \n",
    "Image(url= \"http://blog.wolfram.com/data/uploads/2013/02/MakingCurves-Out39.png\")"
   ]
  },
  {
   "cell_type": "markdown",
   "metadata": {
    "slideshow": {
     "slide_type": "slide"
    }
   },
   "source": [
    "# But with recent advancements in Machine Learning, computers are able to beat the benchmark of human image recognition\n",
    "\n",
    "## Let's check the comparitive performance of different algorithms for MNIST dataset"
   ]
  },
  {
   "cell_type": "markdown",
   "metadata": {
    "slideshow": {
     "slide_type": "slide"
    }
   },
   "source": [
    "## Loading the MNIST Dataset"
   ]
  },
  {
   "cell_type": "code",
   "execution_count": 4,
   "metadata": {
    "collapsed": false,
    "slideshow": {
     "slide_type": "subslide"
    }
   },
   "outputs": [
    {
     "name": "stdout",
     "output_type": "stream",
     "text": [
      "Extracting MNIST_data/train-images-idx3-ubyte.gz\n",
      "Extracting MNIST_data/train-labels-idx1-ubyte.gz\n",
      "Extracting MNIST_data/t10k-images-idx3-ubyte.gz\n",
      "Extracting MNIST_data/t10k-labels-idx1-ubyte.gz\n"
     ]
    }
   ],
   "source": [
    "from tensorflow.examples.tutorials.mnist import input_data\n",
    "mnist = input_data.read_data_sets('MNIST_data')"
   ]
  },
  {
   "cell_type": "markdown",
   "metadata": {
    "collapsed": false,
    "slideshow": {
     "slide_type": "slide"
    }
   },
   "source": [
    "## Vizualising the loaded images"
   ]
  },
  {
   "cell_type": "code",
   "execution_count": 5,
   "metadata": {
    "collapsed": false,
    "slideshow": {
     "slide_type": "subslide"
    }
   },
   "outputs": [
    {
     "data": {
      "image/png": "[encoded data removed]",
      "text/plain": [
       "<matplotlib.figure.Figure at 0x7f73951a20b8>"
      ]
     },
     "metadata": {},
     "output_type": "display_data"
    }
   ],
   "source": [
    "import numpy as np\n",
    "import matplotlib.pyplot as plt\n",
    "%matplotlib inline\n",
    "\n",
    "#Character no.\n",
    "i=10\n",
    "\n",
    "label = mnist.train.labels[i]\n",
    "\n",
    "pixels = mnist.train.images[i,:]\n",
    "\n",
    "pixels = np.array(pixels, dtype='float32')\n",
    "\n",
    "pixels = pixels.reshape(28, 28)\n",
    "\n",
    "plt.title('Label is {label}'.format(label=label))\n",
    "plt.imshow(pixels, cmap='gray')\n",
    "plt.show()"
   ]
  },
  {
   "cell_type": "markdown",
   "metadata": {
    "slideshow": {
     "slide_type": "slide"
    }
   },
   "source": [
    "# Defining train and test Data Sets"
   ]
  },
  {
   "cell_type": "code",
   "execution_count": 6,
   "metadata": {
    "collapsed": false,
    "slideshow": {
     "slide_type": "subslide"
    }
   },
   "outputs": [],
   "source": [
    "#Training image data\n",
    "train_images = mnist.train.images.reshape([55000, 784])\n",
    "\n",
    "#Training image labels\n",
    "train_target = mnist.train.labels\n",
    "\n",
    "#Testing image data\n",
    "test_images = mnist.test.images.reshape([10000, 784])\n",
    "\n",
    "#Testing image labels\n",
    "test_target = mnist.test.labels\n"
   ]
  },
  {
   "cell_type": "markdown",
   "metadata": {
    "slideshow": {
     "slide_type": "slide"
    }
   },
   "source": [
    "# Using KNN Classifier"
   ]
  },
  {
   "cell_type": "code",
   "execution_count": 6,
   "metadata": {
    "collapsed": false,
    "slideshow": {
     "slide_type": "subslide"
    }
   },
   "outputs": [],
   "source": [
    "#Using the KNN Classifier\n",
    "\n",
    "#Importing time library\n",
    "import time\n",
    "\n",
    "start = time.clock()\n",
    "\n",
    "\n",
    "from sklearn.neighbors import KNeighborsClassifier\n",
    "classifier = KNeighborsClassifier() \n",
    "\n",
    "#Fit model with training data\n",
    "classifier.fit(train_images, train_target)\n",
    "\n",
    "#Predict Output\n",
    "predicted= classifier.predict(test_images)\n",
    "\n",
    "from sklearn.metrics import accuracy_score\n",
    "\n",
    "knn_score = accuracy_score(test_target,predicted)\n",
    "\n",
    "knn_time = time.clock() - start\n"
   ]
  },
  {
   "cell_type": "code",
   "execution_count": 7,
   "metadata": {
    "collapsed": false,
    "slideshow": {
     "slide_type": "subslide"
    }
   },
   "outputs": [
    {
     "data": {
      "text/plain": [
       "0.96789999999999998"
      ]
     },
     "execution_count": 7,
     "metadata": {},
     "output_type": "execute_result"
    }
   ],
   "source": [
    "knn_score"
   ]
  },
  {
   "cell_type": "code",
   "execution_count": 8,
   "metadata": {
    "collapsed": false,
    "slideshow": {
     "slide_type": "subslide"
    }
   },
   "outputs": [
    {
     "data": {
      "text/plain": [
       "1057.117255"
      ]
     },
     "execution_count": 8,
     "metadata": {},
     "output_type": "execute_result"
    }
   ],
   "source": [
    "knn_time"
   ]
  },
  {
   "cell_type": "markdown",
   "metadata": {
    "slideshow": {
     "slide_type": "slide"
    }
   },
   "source": [
    "# Using SVM Classifier"
   ]
  },
  {
   "cell_type": "code",
   "execution_count": 9,
   "metadata": {
    "collapsed": true,
    "slideshow": {
     "slide_type": "subslide"
    }
   },
   "outputs": [],
   "source": [
    "#Using the SVM Classifier\n",
    "\n",
    "start = time.clock()\n",
    "\n",
    "from sklearn import svm\n",
    "classifier = svm.SVC(kernel = 'linear')\n",
    "\n",
    "#Fit model with sample data\n",
    "classifier.fit(train_images, train_target)\n",
    "\n",
    "#Predict Output\n",
    "predicted= classifier.predict(test_images)\n",
    "\n",
    "from sklearn.metrics import accuracy_score\n",
    "\n",
    "svm_score = accuracy_score(test_target,predicted)\n",
    "\n",
    "\n",
    "svm_time = time.clock() - start\n"
   ]
  },
  {
   "cell_type": "code",
   "execution_count": 10,
   "metadata": {
    "collapsed": false,
    "slideshow": {
     "slide_type": "subslide"
    }
   },
   "outputs": [
    {
     "data": {
      "text/plain": [
       "0.93930000000000002"
      ]
     },
     "execution_count": 10,
     "metadata": {},
     "output_type": "execute_result"
    }
   ],
   "source": [
    "svm_score"
   ]
  },
  {
   "cell_type": "code",
   "execution_count": 11,
   "metadata": {
    "collapsed": false,
    "slideshow": {
     "slide_type": "subslide"
    }
   },
   "outputs": [
    {
     "data": {
      "text/plain": [
       "662.775801"
      ]
     },
     "execution_count": 11,
     "metadata": {},
     "output_type": "execute_result"
    }
   ],
   "source": [
    "svm_time"
   ]
  },
  {
   "cell_type": "markdown",
   "metadata": {
    "slideshow": {
     "slide_type": "slide"
    }
   },
   "source": [
    "# Using DT Classifier"
   ]
  },
  {
   "cell_type": "code",
   "execution_count": 12,
   "metadata": {
    "collapsed": true,
    "slideshow": {
     "slide_type": "subslide"
    }
   },
   "outputs": [],
   "source": [
    "#Using the Decesion Tree Classifier\n",
    "\n",
    "start = time.clock()\n",
    "\n",
    "from sklearn import tree\n",
    "classifier = tree.DecisionTreeClassifier()\n",
    "\n",
    "#Fit model with sample data\n",
    "classifier.fit(train_images, train_target)\n",
    "\n",
    "#Predict Output\n",
    "predicted= classifier.predict(test_images)\n",
    "\n",
    "from sklearn.metrics import accuracy_score\n",
    "\n",
    "dt_score = accuracy_score(test_target,predicted)\n",
    "\n",
    "dt_time = time.clock() - start"
   ]
  },
  {
   "cell_type": "code",
   "execution_count": 13,
   "metadata": {
    "collapsed": false,
    "slideshow": {
     "slide_type": "subslide"
    }
   },
   "outputs": [
    {
     "data": {
      "text/plain": [
       "0.87229999999999996"
      ]
     },
     "execution_count": 13,
     "metadata": {},
     "output_type": "execute_result"
    }
   ],
   "source": [
    "dt_score"
   ]
  },
  {
   "cell_type": "code",
   "execution_count": 14,
   "metadata": {
    "collapsed": false,
    "slideshow": {
     "slide_type": "subslide"
    }
   },
   "outputs": [
    {
     "data": {
      "text/plain": [
       "34.97991899999988"
      ]
     },
     "execution_count": 14,
     "metadata": {},
     "output_type": "execute_result"
    }
   ],
   "source": [
    "dt_time"
   ]
  },
  {
   "cell_type": "markdown",
   "metadata": {
    "slideshow": {
     "slide_type": "slide"
    }
   },
   "source": [
    "# Using ET Classifier"
   ]
  },
  {
   "cell_type": "code",
   "execution_count": 15,
   "metadata": {
    "collapsed": true,
    "slideshow": {
     "slide_type": "subslide"
    }
   },
   "outputs": [],
   "source": [
    "#Using the Extra Tree Classifier\n",
    "start = time.clock()\n",
    "\n",
    "\n",
    "from sklearn import ensemble\n",
    "classifier = ensemble.ExtraTreesClassifier()\n",
    "\n",
    "#Fit model with sample data\n",
    "classifier.fit(train_images, train_target)\n",
    "\n",
    "#Predict Output\n",
    "predicted= classifier.predict(test_images)\n",
    "\n",
    "from sklearn.metrics import accuracy_score\n",
    "\n",
    "et_score = accuracy_score(test_target,predicted)\n",
    "\n",
    "et_time = time.clock() - start\n"
   ]
  },
  {
   "cell_type": "code",
   "execution_count": 16,
   "metadata": {
    "collapsed": false,
    "slideshow": {
     "slide_type": "subslide"
    }
   },
   "outputs": [
    {
     "data": {
      "text/plain": [
       "0.95209999999999995"
      ]
     },
     "execution_count": 16,
     "metadata": {},
     "output_type": "execute_result"
    }
   ],
   "source": [
    "et_score"
   ]
  },
  {
   "cell_type": "code",
   "execution_count": 17,
   "metadata": {
    "collapsed": false,
    "slideshow": {
     "slide_type": "subslide"
    }
   },
   "outputs": [
    {
     "data": {
      "text/plain": [
       "6.771744000000126"
      ]
     },
     "execution_count": 17,
     "metadata": {},
     "output_type": "execute_result"
    }
   ],
   "source": [
    "et_time"
   ]
  },
  {
   "cell_type": "markdown",
   "metadata": {
    "slideshow": {
     "slide_type": "slide"
    }
   },
   "source": [
    "# Using RF Classifier"
   ]
  },
  {
   "cell_type": "code",
   "execution_count": 18,
   "metadata": {
    "collapsed": true,
    "slideshow": {
     "slide_type": "subslide"
    }
   },
   "outputs": [],
   "source": [
    "start = time.clock()\n",
    "\n",
    "\n",
    "#Using the Random Tree Classifier\n",
    "from sklearn import ensemble\n",
    "classifier = ensemble.RandomForestClassifier()\n",
    "\n",
    "#Fit model with sample data\n",
    "classifier.fit(train_images, train_target)\n",
    "\n",
    "#Predict Output\n",
    "predicted= classifier.predict(test_images)\n",
    "\n",
    "from sklearn.metrics import accuracy_score\n",
    "\n",
    "rf_score = accuracy_score(test_target,predicted)\n",
    "\n",
    "rf_time = time.clock() - start\n"
   ]
  },
  {
   "cell_type": "code",
   "execution_count": 19,
   "metadata": {
    "collapsed": false,
    "slideshow": {
     "slide_type": "subslide"
    }
   },
   "outputs": [
    {
     "data": {
      "text/plain": [
       "0.94540000000000002"
      ]
     },
     "execution_count": 19,
     "metadata": {},
     "output_type": "execute_result"
    }
   ],
   "source": [
    "rf_score"
   ]
  },
  {
   "cell_type": "code",
   "execution_count": 20,
   "metadata": {
    "collapsed": false,
    "slideshow": {
     "slide_type": "subslide"
    }
   },
   "outputs": [
    {
     "data": {
      "text/plain": [
       "6.985648000000083"
      ]
     },
     "execution_count": 20,
     "metadata": {},
     "output_type": "execute_result"
    }
   ],
   "source": [
    "rf_time"
   ]
  },
  {
   "cell_type": "markdown",
   "metadata": {
    "slideshow": {
     "slide_type": "slide"
    }
   },
   "source": [
    "# Using GBM Classifier"
   ]
  },
  {
   "cell_type": "code",
   "execution_count": null,
   "metadata": {
    "collapsed": false,
    "slideshow": {
     "slide_type": "subslide"
    }
   },
   "outputs": [],
   "source": [
    "import warnings\n",
    "warnings.simplefilter('ignore')\n",
    "\n",
    "#Using the Gradient Boosting Tree Classifier\n",
    "start = time.clock()\n",
    "\n",
    "\n",
    "from sklearn import ensemble\n",
    "classifier = ensemble.GradientBoostingClassifier()\n",
    "\n",
    "#Fit model with sample data\n",
    "classifier.fit(train_images, train_target)\n",
    "\n",
    "#Predict Output\n",
    "predicted= classifier.predict(test_images)\n",
    "\n",
    "from sklearn.metrics import accuracy_score\n",
    "\n",
    "gbm_score = accuracy_score(test_target,predicted)\n",
    "\n",
    "gbm_time = time.clock() - start\n"
   ]
  },
  {
   "cell_type": "code",
   "execution_count": null,
   "metadata": {
    "collapsed": false,
    "slideshow": {
     "slide_type": "subslide"
    }
   },
   "outputs": [
    {
     "data": {
      "text/plain": [
       "0.94699999999999995"
      ]
     },
     "execution_count": 8,
     "metadata": {},
     "output_type": "execute_result"
    }
   ],
   "source": [
    "gbm_score"
   ]
  },
  {
   "cell_type": "code",
   "execution_count": null,
   "metadata": {
    "collapsed": false,
    "slideshow": {
     "slide_type": "subslide"
    }
   },
   "outputs": [
    {
     "data": {
      "text/plain": [
       "3993.299466"
      ]
     },
     "execution_count": 9,
     "metadata": {},
     "output_type": "execute_result"
    }
   ],
   "source": [
    "gbm_time"
   ]
  },
  {
   "cell_type": "markdown",
   "metadata": {
    "slideshow": {
     "slide_type": "slide"
    }
   },
   "source": [
    "# Using Deep Learning NN With TF"
   ]
  },
  {
   "cell_type": "code",
   "execution_count": null,
   "metadata": {
    "collapsed": false,
    "slideshow": {
     "slide_type": "subslide"
    }
   },
   "outputs": [
    {
     "name": "stdout",
     "output_type": "stream",
     "text": [
      "Extracting MNIST_data/train-images-idx3-ubyte.gz\n",
      "Extracting MNIST_data/train-labels-idx1-ubyte.gz\n",
      "Extracting MNIST_data/t10k-images-idx3-ubyte.gz\n",
      "Extracting MNIST_data/t10k-labels-idx1-ubyte.gz\n"
     ]
    }
   ],
   "source": [
    "from tensorflow.examples.tutorials.mnist import input_data\n",
    "mnist = input_data.read_data_sets('MNIST_data', one_hot=True)"
   ]
  },
  {
   "cell_type": "code",
   "execution_count": null,
   "metadata": {
    "collapsed": true,
    "slideshow": {
     "slide_type": "subslide"
    }
   },
   "outputs": [],
   "source": [
    "#Importing the required library: TensorFlow\n",
    "import tensorflow as tf\n",
    "sess = tf.InteractiveSession()"
   ]
  },
  {
   "cell_type": "code",
   "execution_count": null,
   "metadata": {
    "collapsed": true,
    "slideshow": {
     "slide_type": "subslide"
    }
   },
   "outputs": [],
   "source": [
    "x = tf.placeholder(tf.float32, shape=[None, 784])\n",
    "y_ = tf.placeholder(tf.float32, shape=[None, 10])"
   ]
  },
  {
   "cell_type": "code",
   "execution_count": null,
   "metadata": {
    "collapsed": true,
    "slideshow": {
     "slide_type": "subslide"
    }
   },
   "outputs": [],
   "source": [
    "W = tf.Variable(tf.zeros([784,10]))\n",
    "b = tf.Variable(tf.zeros([10]))"
   ]
  },
  {
   "cell_type": "code",
   "execution_count": null,
   "metadata": {
    "collapsed": true,
    "slideshow": {
     "slide_type": "subslide"
    }
   },
   "outputs": [],
   "source": [
    "def weight_variable(shape):\n",
    "  initial = tf.truncated_normal(shape, stddev=0.1)\n",
    "  return tf.Variable(initial)\n",
    "\n",
    "def bias_variable(shape):\n",
    "  initial = tf.constant(0.1, shape=shape)\n",
    "  return tf.Variable(initial)"
   ]
  },
  {
   "cell_type": "code",
   "execution_count": null,
   "metadata": {
    "collapsed": true,
    "slideshow": {
     "slide_type": "subslide"
    }
   },
   "outputs": [],
   "source": [
    "def conv2d(x, W):\n",
    "  return tf.nn.conv2d(x, W, strides=[1, 1, 1, 1], padding='SAME')\n",
    "\n",
    "def max_pool_2x2(x):\n",
    "  return tf.nn.max_pool(x, ksize=[1, 2, 2, 1],\n",
    "                        strides=[1, 2, 2, 1], padding='SAME')"
   ]
  },
  {
   "cell_type": "code",
   "execution_count": null,
   "metadata": {
    "collapsed": true,
    "slideshow": {
     "slide_type": "subslide"
    }
   },
   "outputs": [],
   "source": [
    "W_conv1 = weight_variable([5, 5, 1, 32])\n",
    "b_conv1 = bias_variable([32])"
   ]
  },
  {
   "cell_type": "code",
   "execution_count": null,
   "metadata": {
    "collapsed": true,
    "slideshow": {
     "slide_type": "subslide"
    }
   },
   "outputs": [],
   "source": [
    "x_image = tf.reshape(x, [-1,28,28,1])"
   ]
  },
  {
   "cell_type": "code",
   "execution_count": null,
   "metadata": {
    "collapsed": true,
    "slideshow": {
     "slide_type": "subslide"
    }
   },
   "outputs": [],
   "source": [
    "h_conv1 = tf.nn.relu(conv2d(x_image, W_conv1) + b_conv1)\n",
    "h_pool1 = max_pool_2x2(h_conv1)"
   ]
  },
  {
   "cell_type": "code",
   "execution_count": null,
   "metadata": {
    "collapsed": true,
    "slideshow": {
     "slide_type": "subslide"
    }
   },
   "outputs": [],
   "source": [
    "W_conv2 = weight_variable([5, 5, 32, 64])\n",
    "b_conv2 = bias_variable([64])\n",
    "\n",
    "h_conv2 = tf.nn.relu(conv2d(h_pool1, W_conv2) + b_conv2)\n",
    "h_pool2 = max_pool_2x2(h_conv2)"
   ]
  },
  {
   "cell_type": "code",
   "execution_count": null,
   "metadata": {
    "collapsed": true,
    "slideshow": {
     "slide_type": "subslide"
    }
   },
   "outputs": [],
   "source": [
    "W_fc1 = weight_variable([7 * 7 * 64, 1024])\n",
    "b_fc1 = bias_variable([1024])\n",
    "\n",
    "h_pool2_flat = tf.reshape(h_pool2, [-1, 7*7*64])\n",
    "h_fc1 = tf.nn.relu(tf.matmul(h_pool2_flat, W_fc1) + b_fc1)"
   ]
  },
  {
   "cell_type": "code",
   "execution_count": null,
   "metadata": {
    "collapsed": true,
    "slideshow": {
     "slide_type": "subslide"
    }
   },
   "outputs": [],
   "source": [
    "keep_prob = tf.placeholder(tf.float32)\n",
    "h_fc1_drop = tf.nn.dropout(h_fc1, keep_prob)"
   ]
  },
  {
   "cell_type": "code",
   "execution_count": null,
   "metadata": {
    "collapsed": true,
    "slideshow": {
     "slide_type": "subslide"
    }
   },
   "outputs": [],
   "source": [
    "W_fc2 = weight_variable([1024, 10])\n",
    "b_fc2 = bias_variable([10])\n",
    "\n",
    "y_conv = tf.matmul(h_fc1_drop, W_fc2) + b_fc2"
   ]
  },
  {
   "cell_type": "code",
   "execution_count": null,
   "metadata": {
    "collapsed": false,
    "slideshow": {
     "slide_type": "subslide"
    }
   },
   "outputs": [
    {
     "name": "stdout",
     "output_type": "stream",
     "text": [
      "step 0, training accuracy 0.06\n",
      "step 100, training accuracy 0.8\n",
      "step 200, training accuracy 0.94\n",
      "step 300, training accuracy 0.84\n",
      "step 400, training accuracy 0.96\n",
      "step 500, training accuracy 0.92\n",
      "step 600, training accuracy 1\n",
      "step 700, training accuracy 0.96\n",
      "step 800, training accuracy 0.92\n",
      "step 900, training accuracy 1\n",
      "step 1000, training accuracy 0.94\n",
      "step 1100, training accuracy 0.98\n",
      "step 1200, training accuracy 0.96\n",
      "step 1300, training accuracy 0.98\n",
      "step 1400, training accuracy 0.94\n",
      "step 1500, training accuracy 0.94\n",
      "step 1600, training accuracy 0.96\n",
      "step 1700, training accuracy 0.96\n",
      "step 1800, training accuracy 0.98\n",
      "step 1900, training accuracy 1\n",
      "step 2000, training accuracy 0.98\n",
      "step 2100, training accuracy 1\n",
      "step 2200, training accuracy 0.98\n",
      "step 2300, training accuracy 0.96\n",
      "step 2400, training accuracy 0.98\n",
      "step 2500, training accuracy 0.94\n",
      "step 2600, training accuracy 1\n",
      "step 2700, training accuracy 0.98\n",
      "step 2800, training accuracy 0.94\n",
      "step 2900, training accuracy 0.96\n",
      "step 3000, training accuracy 0.94\n",
      "step 3100, training accuracy 0.96\n",
      "step 3200, training accuracy 1\n",
      "step 3300, training accuracy 0.98\n",
      "step 3400, training accuracy 0.98\n",
      "step 3500, training accuracy 0.98\n",
      "step 3600, training accuracy 1\n",
      "step 3700, training accuracy 0.98\n",
      "step 3800, training accuracy 1\n",
      "step 3900, training accuracy 1\n",
      "step 4000, training accuracy 0.98\n",
      "step 4100, training accuracy 0.96\n",
      "step 4200, training accuracy 1\n",
      "step 4300, training accuracy 0.98\n",
      "step 4400, training accuracy 1\n",
      "step 4500, training accuracy 0.98\n",
      "step 4600, training accuracy 0.98\n",
      "step 4700, training accuracy 0.96\n",
      "step 4800, training accuracy 1\n",
      "step 4900, training accuracy 0.94\n",
      "step 5000, training accuracy 1\n",
      "step 5100, training accuracy 1\n",
      "step 5200, training accuracy 1\n",
      "step 5300, training accuracy 0.96\n",
      "step 5400, training accuracy 0.98\n",
      "step 5500, training accuracy 0.96\n",
      "step 5600, training accuracy 1\n",
      "step 5700, training accuracy 1\n",
      "step 5800, training accuracy 0.98\n",
      "step 5900, training accuracy 1\n",
      "step 6000, training accuracy 1\n",
      "step 6100, training accuracy 1\n",
      "step 6200, training accuracy 0.98\n",
      "step 6300, training accuracy 0.98\n",
      "step 6400, training accuracy 1\n",
      "step 6500, training accuracy 0.98\n",
      "step 6600, training accuracy 1\n",
      "step 6700, training accuracy 1\n",
      "step 6800, training accuracy 1\n",
      "step 6900, training accuracy 1\n",
      "step 7000, training accuracy 1\n",
      "step 7100, training accuracy 1\n",
      "step 7200, training accuracy 1\n",
      "step 7300, training accuracy 1\n",
      "step 7400, training accuracy 1\n",
      "step 7500, training accuracy 1\n",
      "step 7600, training accuracy 0.98\n",
      "step 7700, training accuracy 1\n",
      "step 7800, training accuracy 1\n",
      "step 7900, training accuracy 1\n",
      "step 8000, training accuracy 1\n",
      "step 8100, training accuracy 1\n",
      "step 8200, training accuracy 1\n",
      "step 8300, training accuracy 1\n",
      "step 8400, training accuracy 1\n",
      "step 8500, training accuracy 1\n",
      "step 8600, training accuracy 1\n",
      "step 8700, training accuracy 1\n",
      "step 8800, training accuracy 1\n",
      "step 8900, training accuracy 1\n",
      "step 9000, training accuracy 1\n",
      "step 9100, training accuracy 0.98\n",
      "step 9200, training accuracy 1\n",
      "step 9300, training accuracy 1\n",
      "step 9400, training accuracy 1\n",
      "step 9500, training accuracy 0.98\n",
      "step 9600, training accuracy 0.98\n",
      "step 9700, training accuracy 1\n",
      "step 9800, training accuracy 1\n",
      "step 9900, training accuracy 1\n",
      "step 10000, training accuracy 1\n",
      "step 10100, training accuracy 1\n",
      "step 10200, training accuracy 1\n",
      "step 10300, training accuracy 1\n",
      "step 10400, training accuracy 1\n",
      "step 10500, training accuracy 1\n",
      "step 10600, training accuracy 1\n",
      "step 10700, training accuracy 1\n",
      "step 10800, training accuracy 1\n",
      "step 10900, training accuracy 0.98\n",
      "step 11000, training accuracy 1\n",
      "step 11100, training accuracy 1\n",
      "step 11200, training accuracy 1\n",
      "step 11300, training accuracy 0.98\n",
      "step 11400, training accuracy 1\n",
      "step 11500, training accuracy 1\n",
      "step 11600, training accuracy 1\n",
      "step 11700, training accuracy 1\n",
      "step 11800, training accuracy 1\n",
      "step 11900, training accuracy 1\n",
      "step 12000, training accuracy 1\n",
      "step 12100, training accuracy 1\n",
      "step 12200, training accuracy 1\n",
      "step 12300, training accuracy 0.98\n",
      "step 12400, training accuracy 0.96\n",
      "step 12500, training accuracy 1\n",
      "step 12600, training accuracy 1\n",
      "step 12700, training accuracy 1\n",
      "step 12800, training accuracy 1\n",
      "step 12900, training accuracy 1\n",
      "step 13000, training accuracy 1\n",
      "step 13100, training accuracy 0.98\n",
      "step 13200, training accuracy 1\n",
      "step 13300, training accuracy 1\n",
      "step 13400, training accuracy 1\n",
      "step 13500, training accuracy 1\n",
      "step 13600, training accuracy 0.98\n",
      "step 13700, training accuracy 1\n",
      "step 13800, training accuracy 1\n",
      "step 13900, training accuracy 1\n",
      "step 14000, training accuracy 1\n",
      "step 14100, training accuracy 1\n",
      "step 14200, training accuracy 1\n",
      "step 14300, training accuracy 1\n",
      "step 14400, training accuracy 1\n",
      "step 14500, training accuracy 1\n",
      "step 14600, training accuracy 1\n",
      "step 14700, training accuracy 1\n",
      "step 14800, training accuracy 1\n",
      "step 14900, training accuracy 0.98\n"
     ]
    }
   ],
   "source": [
    "cross_entropy = tf.reduce_mean(\n",
    "    tf.nn.softmax_cross_entropy_with_logits(labels=y_, logits=y_conv))\n",
    "train_step = tf.train.AdamOptimizer(1e-4).minimize(cross_entropy)\n",
    "correct_prediction = tf.equal(tf.argmax(y_conv,1), tf.argmax(y_,1))\n",
    "accuracy = tf.reduce_mean(tf.cast(correct_prediction, tf.float32))\n",
    "sess.run(tf.global_variables_initializer())\n",
    "\n",
    "start = time.clock()\n",
    "\n",
    "for i in range(15000):\n",
    "  batch = mnist.train.next_batch(50)\n",
    "  if i%100 == 0:\n",
    "    train_accuracy = accuracy.eval(feed_dict={\n",
    "        x:batch[0], y_: batch[1], keep_prob: 1.0})\n",
    "    print(\"step %d, training accuracy %g\"%(i, train_accuracy))\n",
    "  train_step.run(feed_dict={x: batch[0], y_: batch[1], keep_prob: 0.5})\n",
    "\n",
    "tf_score = accuracy.eval(feed_dict={x: mnist.test.images, y_: mnist.test.labels, keep_prob: 1.0})\n",
    "\n",
    "tf_time = time.clock() - start"
   ]
  },
  {
   "cell_type": "code",
   "execution_count": null,
   "metadata": {
    "collapsed": false,
    "slideshow": {
     "slide_type": "subslide"
    }
   },
   "outputs": [
    {
     "data": {
      "text/plain": [
       "0.9921"
      ]
     },
     "execution_count": 24,
     "metadata": {},
     "output_type": "execute_result"
    }
   ],
   "source": [
    "tf_score"
   ]
  },
  {
   "cell_type": "code",
   "execution_count": null,
   "metadata": {
    "collapsed": false,
    "slideshow": {
     "slide_type": "subslide"
    }
   },
   "outputs": [
    {
     "data": {
      "text/plain": [
       "12861.674889"
      ]
     },
     "execution_count": 25,
     "metadata": {},
     "output_type": "execute_result"
    }
   ],
   "source": [
    "tf_time"
   ]
  },
  {
   "cell_type": "markdown",
   "metadata": {
    "collapsed": true,
    "slideshow": {
     "slide_type": "slide"
    }
   },
   "source": [
    "# Using Deep Learning with Keras"
   ]
  },
  {
   "cell_type": "code",
   "execution_count": null,
   "metadata": {
    "collapsed": false,
    "slideshow": {
     "slide_type": "subslide"
    }
   },
   "outputs": [
    {
     "name": "stderr",
     "output_type": "stream",
     "text": [
      "Using TensorFlow backend.\n"
     ]
    }
   ],
   "source": [
    "from __future__ import print_function\n",
    "import keras\n",
    "#from keras.datasets import mnist\n",
    "from keras.models import Sequential\n",
    "from keras.layers import Dense, Dropout, Flatten\n",
    "from keras.layers import Conv2D, MaxPooling2D\n",
    "from keras import backend as K"
   ]
  },
  {
   "cell_type": "code",
   "execution_count": null,
   "metadata": {
    "collapsed": false,
    "slideshow": {
     "slide_type": "subslide"
    }
   },
   "outputs": [
    {
     "name": "stdout",
     "output_type": "stream",
     "text": [
      "Extracting MNIST_data/train-images-idx3-ubyte.gz\n",
      "Extracting MNIST_data/train-labels-idx1-ubyte.gz\n",
      "Extracting MNIST_data/t10k-images-idx3-ubyte.gz\n",
      "Extracting MNIST_data/t10k-labels-idx1-ubyte.gz\n"
     ]
    }
   ],
   "source": [
    "batch_size = 128\n",
    "num_classes = 10\n",
    "epochs = 200\n",
    "\n",
    "from tensorflow.examples.tutorials.mnist import input_data\n",
    "mnist = input_data.read_data_sets('MNIST_data')"
   ]
  },
  {
   "cell_type": "code",
   "execution_count": null,
   "metadata": {
    "collapsed": false,
    "slideshow": {
     "slide_type": "subslide"
    }
   },
   "outputs": [
    {
     "name": "stdout",
     "output_type": "stream",
     "text": [
      "x_train shape: (55000, 28, 28, 1)\n",
      "55000 train samples\n",
      "10000 test samples\n"
     ]
    }
   ],
   "source": [
    "# input image dimensions\n",
    "img_rows, img_cols = 28, 28\n",
    "\n",
    "# the data, shuffled and split between train and test sets\n",
    "#(x_train, y_train), (x_test, y_test) = mnist.load_data()\n",
    "x_train = mnist.train.images\n",
    "y_train = mnist.train.labels\n",
    "\n",
    "x_test = mnist.test.images\n",
    "y_test = mnist.test.labels\n",
    "\n",
    "\n",
    "\n",
    "if K.image_data_format() == 'channels_first':\n",
    "    x_train = x_train.reshape(x_train.shape[0], 1, img_rows, img_cols)\n",
    "    x_test = x_test.reshape(x_test.shape[0], 1, img_rows, img_cols)\n",
    "    input_shape = (1, img_rows, img_cols)\n",
    "else:\n",
    "    x_train = x_train.reshape(x_train.shape[0], img_rows, img_cols, 1)\n",
    "    x_test = x_test.reshape(x_test.shape[0], img_rows, img_cols, 1)\n",
    "    input_shape = (img_rows, img_cols, 1)\n",
    "\n",
    "x_train = x_train.astype('float32')\n",
    "x_test = x_test.astype('float32')\n",
    "x_train /= 255\n",
    "x_test /= 255\n",
    "print('x_train shape:', x_train.shape)\n",
    "print(x_train.shape[0], 'train samples')\n",
    "print(x_test.shape[0], 'test samples')\n",
    "\n",
    "# convert class vectors to binary class matrices\n",
    "y_train = keras.utils.to_categorical(y_train, num_classes)\n",
    "y_test = keras.utils.to_categorical(y_test, num_classes)"
   ]
  },
  {
   "cell_type": "code",
   "execution_count": null,
   "metadata": {
    "collapsed": false,
    "slideshow": {
     "slide_type": "subslide"
    }
   },
   "outputs": [],
   "source": [
    "model = Sequential()\n",
    "model.add(Conv2D(32, kernel_size=(3, 3),\n",
    "                 activation='relu',\n",
    "                 input_shape=input_shape))\n",
    "model.add(Conv2D(64, (3, 3), activation='relu'))\n",
    "model.add(MaxPooling2D(pool_size=(2, 2)))\n",
    "model.add(Dropout(0.25))\n",
    "model.add(Flatten())\n",
    "model.add(Dense(128, activation='relu'))\n",
    "model.add(Dropout(0.5))\n",
    "model.add(Dense(num_classes, activation='softmax'))\n",
    "\n",
    "model.compile(loss=keras.losses.categorical_crossentropy,\n",
    "              optimizer=keras.optimizers.Adadelta(),\n",
    "              metrics=['accuracy'])"
   ]
  },
  {
   "cell_type": "code",
   "execution_count": null,
   "metadata": {
    "collapsed": false,
    "slideshow": {
     "slide_type": "subslide"
    }
   },
   "outputs": [
    {
     "name": "stdout",
     "output_type": "stream",
     "text": [
      "Train on 55000 samples, validate on 10000 samples\n",
      "Epoch 1/200\n",
      "55000/55000 [==============================] - 154s - loss: 2.1336 - acc: 0.2074 - val_loss: 0.6320 - val_acc: 0.8220\n",
      "Epoch 2/200\n",
      "55000/55000 [==============================] - 153s - loss: 0.4897 - acc: 0.8498 - val_loss: 0.2664 - val_acc: 0.9204\n",
      "Epoch 3/200\n",
      "55000/55000 [==============================] - 151s - loss: 0.3536 - acc: 0.8927 - val_loss: 0.2135 - val_acc: 0.9354\n",
      "Epoch 4/200\n",
      "55000/55000 [==============================] - 146s - loss: 0.3083 - acc: 0.9054 - val_loss: 0.1949 - val_acc: 0.9417\n",
      "Epoch 5/200\n",
      "55000/55000 [==============================] - 147s - loss: 0.2791 - acc: 0.9164 - val_loss: 0.1629 - val_acc: 0.9507\n",
      "Epoch 6/200\n",
      "55000/55000 [==============================] - 147s - loss: 0.2533 - acc: 0.9239 - val_loss: 0.1530 - val_acc: 0.9561\n",
      "Epoch 7/200\n",
      "55000/55000 [==============================] - 148s - loss: 0.2399 - acc: 0.9276 - val_loss: 0.1395 - val_acc: 0.9581\n",
      "Epoch 8/200\n",
      "55000/55000 [==============================] - 146s - loss: 0.2289 - acc: 0.9315 - val_loss: 0.1317 - val_acc: 0.9612\n",
      "Epoch 9/200\n",
      "55000/55000 [==============================] - 147s - loss: 0.2137 - acc: 0.9364 - val_loss: 0.1212 - val_acc: 0.9647\n",
      "Epoch 10/200\n",
      "55000/55000 [==============================] - 149s - loss: 0.2028 - acc: 0.9394 - val_loss: 0.1168 - val_acc: 0.9671\n",
      "Epoch 11/200\n",
      "55000/55000 [==============================] - 148s - loss: 0.1906 - acc: 0.9433 - val_loss: 0.1092 - val_acc: 0.9672\n",
      "Epoch 12/200\n",
      "55000/55000 [==============================] - 147s - loss: 0.1829 - acc: 0.9451 - val_loss: 0.1010 - val_acc: 0.9691\n",
      "Epoch 13/200\n",
      "55000/55000 [==============================] - 149s - loss: 0.1750 - acc: 0.9480 - val_loss: 0.0963 - val_acc: 0.9699\n",
      "Epoch 14/200\n",
      "55000/55000 [==============================] - 147s - loss: 0.1635 - acc: 0.9521 - val_loss: 0.0973 - val_acc: 0.9707\n",
      "Epoch 15/200\n",
      "55000/55000 [==============================] - 146s - loss: 0.1543 - acc: 0.9545 - val_loss: 0.0897 - val_acc: 0.9713\n",
      "Epoch 16/200\n",
      "55000/55000 [==============================] - 147s - loss: 0.1463 - acc: 0.9570 - val_loss: 0.0824 - val_acc: 0.9756\n",
      "Epoch 17/200\n",
      "55000/55000 [==============================] - 146s - loss: 0.1398 - acc: 0.9582 - val_loss: 0.0771 - val_acc: 0.9763\n",
      "Epoch 18/200\n",
      "55000/55000 [==============================] - 146s - loss: 0.1347 - acc: 0.9607 - val_loss: 0.0728 - val_acc: 0.9777\n",
      "Epoch 19/200\n",
      "55000/55000 [==============================] - 147s - loss: 0.1286 - acc: 0.9617 - val_loss: 0.0696 - val_acc: 0.9787\n",
      "Epoch 20/200\n",
      "55000/55000 [==============================] - 146s - loss: 0.1218 - acc: 0.9645 - val_loss: 0.0674 - val_acc: 0.9786\n",
      "Epoch 21/200\n",
      "55000/55000 [==============================] - 146s - loss: 0.1134 - acc: 0.9672 - val_loss: 0.0633 - val_acc: 0.9797\n",
      "Epoch 22/200\n",
      "55000/55000 [==============================] - 147s - loss: 0.1124 - acc: 0.9666 - val_loss: 0.0689 - val_acc: 0.9782\n",
      "Epoch 23/200\n",
      "55000/55000 [==============================] - 147s - loss: 0.1051 - acc: 0.9681 - val_loss: 0.0602 - val_acc: 0.9822\n",
      "Epoch 24/200\n",
      "55000/55000 [==============================] - 150s - loss: 0.1043 - acc: 0.9691 - val_loss: 0.0603 - val_acc: 0.9815\n",
      "Epoch 25/200\n",
      "55000/55000 [==============================] - 156s - loss: 0.0996 - acc: 0.9705 - val_loss: 0.0559 - val_acc: 0.9825\n",
      "Epoch 26/200\n",
      "55000/55000 [==============================] - 156s - loss: 0.0944 - acc: 0.9721 - val_loss: 0.0527 - val_acc: 0.9826\n",
      "Epoch 27/200\n",
      "55000/55000 [==============================] - 156s - loss: 0.0921 - acc: 0.9728 - val_loss: 0.0526 - val_acc: 0.9822\n",
      "Epoch 28/200\n",
      "55000/55000 [==============================] - 155s - loss: 0.0900 - acc: 0.9737 - val_loss: 0.0522 - val_acc: 0.9829\n",
      "Epoch 29/200\n",
      "55000/55000 [==============================] - 155s - loss: 0.0849 - acc: 0.9741 - val_loss: 0.0524 - val_acc: 0.9834\n",
      "Epoch 30/200\n",
      "55000/55000 [==============================] - 156s - loss: 0.0858 - acc: 0.9754 - val_loss: 0.0526 - val_acc: 0.9830\n",
      "Epoch 31/200\n",
      "55000/55000 [==============================] - 158s - loss: 0.0825 - acc: 0.9755 - val_loss: 0.0494 - val_acc: 0.9840\n",
      "Epoch 32/200\n",
      "55000/55000 [==============================] - 155s - loss: 0.0795 - acc: 0.9771 - val_loss: 0.0480 - val_acc: 0.9845\n",
      "Epoch 33/200\n",
      "55000/55000 [==============================] - 156s - loss: 0.0768 - acc: 0.9776 - val_loss: 0.0467 - val_acc: 0.9851\n",
      "Epoch 34/200\n",
      "55000/55000 [==============================] - 157s - loss: 0.0761 - acc: 0.9770 - val_loss: 0.0462 - val_acc: 0.9846\n",
      "Epoch 35/200\n",
      "55000/55000 [==============================] - 156s - loss: 0.0750 - acc: 0.9779 - val_loss: 0.0464 - val_acc: 0.9852\n",
      "Epoch 36/200\n",
      "55000/55000 [==============================] - 156s - loss: 0.0733 - acc: 0.9780 - val_loss: 0.0443 - val_acc: 0.9854\n",
      "Epoch 37/200\n",
      "55000/55000 [==============================] - 156s - loss: 0.0716 - acc: 0.9784 - val_loss: 0.0439 - val_acc: 0.9849\n",
      "Epoch 38/200\n",
      "55000/55000 [==============================] - 156s - loss: 0.0710 - acc: 0.9787 - val_loss: 0.0432 - val_acc: 0.9851\n",
      "Epoch 39/200\n",
      "55000/55000 [==============================] - 155s - loss: 0.0705 - acc: 0.9793 - val_loss: 0.0436 - val_acc: 0.9848\n",
      "Epoch 40/200\n",
      "55000/55000 [==============================] - 157s - loss: 0.0698 - acc: 0.9791 - val_loss: 0.0421 - val_acc: 0.9861\n",
      "Epoch 41/200\n",
      "55000/55000 [==============================] - 155s - loss: 0.0678 - acc: 0.9798 - val_loss: 0.0464 - val_acc: 0.9845\n",
      "Epoch 42/200\n",
      "55000/55000 [==============================] - 157s - loss: 0.0660 - acc: 0.9803 - val_loss: 0.0420 - val_acc: 0.9861\n",
      "Epoch 43/200\n",
      "55000/55000 [==============================] - 155s - loss: 0.0652 - acc: 0.9804 - val_loss: 0.0444 - val_acc: 0.9866\n",
      "Epoch 44/200\n",
      "55000/55000 [==============================] - 155s - loss: 0.0658 - acc: 0.9802 - val_loss: 0.0420 - val_acc: 0.9861\n",
      "Epoch 45/200\n",
      "55000/55000 [==============================] - 155s - loss: 0.0643 - acc: 0.9801 - val_loss: 0.0430 - val_acc: 0.9861\n",
      "Epoch 46/200\n",
      "55000/55000 [==============================] - 157s - loss: 0.0638 - acc: 0.9805 - val_loss: 0.0409 - val_acc: 0.9862\n",
      "Epoch 47/200\n",
      "55000/55000 [==============================] - 155s - loss: 0.0627 - acc: 0.9815 - val_loss: 0.0413 - val_acc: 0.9865\n",
      "Epoch 48/200\n",
      "55000/55000 [==============================] - 155s - loss: 0.0622 - acc: 0.9813 - val_loss: 0.0399 - val_acc: 0.9867\n",
      "Epoch 49/200\n",
      "55000/55000 [==============================] - 155s - loss: 0.0631 - acc: 0.9816 - val_loss: 0.0424 - val_acc: 0.9863\n",
      "Epoch 50/200\n",
      "55000/55000 [==============================] - 154s - loss: 0.0633 - acc: 0.9813 - val_loss: 0.0440 - val_acc: 0.9864\n",
      "Epoch 51/200\n",
      "55000/55000 [==============================] - 154s - loss: 0.0612 - acc: 0.9816 - val_loss: 0.0390 - val_acc: 0.9879\n",
      "Epoch 52/200\n",
      "55000/55000 [==============================] - 153s - loss: 0.0621 - acc: 0.9822 - val_loss: 0.0379 - val_acc: 0.9871\n",
      "Epoch 53/200\n",
      "55000/55000 [==============================] - 154s - loss: 0.0590 - acc: 0.9825 - val_loss: 0.0412 - val_acc: 0.9868\n",
      "Epoch 54/200\n",
      "55000/55000 [==============================] - 155s - loss: 0.0604 - acc: 0.9819 - val_loss: 0.0396 - val_acc: 0.9871\n",
      "Epoch 55/200\n",
      "55000/55000 [==============================] - 152s - loss: 0.0591 - acc: 0.9824 - val_loss: 0.0389 - val_acc: 0.9870\n",
      "Epoch 56/200\n",
      "55000/55000 [==============================] - 152s - loss: 0.0596 - acc: 0.9821 - val_loss: 0.0419 - val_acc: 0.9871\n",
      "Epoch 57/200\n",
      "55000/55000 [==============================] - 151s - loss: 0.0591 - acc: 0.9825 - val_loss: 0.0388 - val_acc: 0.9875\n",
      "Epoch 58/200\n",
      "55000/55000 [==============================] - 148s - loss: 0.0580 - acc: 0.9821 - val_loss: 0.0381 - val_acc: 0.9869\n",
      "Epoch 59/200\n",
      "55000/55000 [==============================] - 152s - loss: 0.0598 - acc: 0.9819 - val_loss: 0.0383 - val_acc: 0.9878\n",
      "Epoch 60/200\n",
      "55000/55000 [==============================] - 149s - loss: 0.0555 - acc: 0.9834 - val_loss: 0.0401 - val_acc: 0.9873\n",
      "Epoch 61/200\n",
      "55000/55000 [==============================] - 145s - loss: 0.0570 - acc: 0.9832 - val_loss: 0.0393 - val_acc: 0.9872\n",
      "Epoch 62/200\n",
      "55000/55000 [==============================] - 150s - loss: 0.0582 - acc: 0.9824 - val_loss: 0.0403 - val_acc: 0.9875\n",
      "Epoch 63/200\n",
      "55000/55000 [==============================] - 149s - loss: 0.0552 - acc: 0.9832 - val_loss: 0.0392 - val_acc: 0.9871\n",
      "Epoch 64/200\n",
      "55000/55000 [==============================] - 145s - loss: 0.0561 - acc: 0.9828 - val_loss: 0.0394 - val_acc: 0.9873\n",
      "Epoch 65/200\n",
      "55000/55000 [==============================] - 145s - loss: 0.0551 - acc: 0.9834 - val_loss: 0.0385 - val_acc: 0.9873\n",
      "Epoch 66/200\n",
      "55000/55000 [==============================] - 146s - loss: 0.0549 - acc: 0.9831 - val_loss: 0.0388 - val_acc: 0.9869\n",
      "Epoch 67/200\n",
      "55000/55000 [==============================] - 149s - loss: 0.0572 - acc: 0.9839 - val_loss: 0.0370 - val_acc: 0.9883\n",
      "Epoch 68/200\n",
      "55000/55000 [==============================] - 153s - loss: 0.0554 - acc: 0.9832 - val_loss: 0.0384 - val_acc: 0.9870\n",
      "Epoch 69/200\n",
      "55000/55000 [==============================] - 153s - loss: 0.0554 - acc: 0.9839 - val_loss: 0.0375 - val_acc: 0.9877\n",
      "Epoch 70/200\n",
      "55000/55000 [==============================] - 153s - loss: 0.0549 - acc: 0.9841 - val_loss: 0.0381 - val_acc: 0.9882\n",
      "Epoch 71/200\n",
      "55000/55000 [==============================] - 150s - loss: 0.0560 - acc: 0.9832 - val_loss: 0.0371 - val_acc: 0.9879\n",
      "Epoch 72/200\n",
      "55000/55000 [==============================] - 155s - loss: 0.0560 - acc: 0.9837 - val_loss: 0.0390 - val_acc: 0.9884\n",
      "Epoch 73/200\n",
      "55000/55000 [==============================] - 153s - loss: 0.0551 - acc: 0.9835 - val_loss: 0.0378 - val_acc: 0.9875\n",
      "Epoch 74/200\n",
      "55000/55000 [==============================] - 154s - loss: 0.0536 - acc: 0.9839 - val_loss: 0.0370 - val_acc: 0.9872\n",
      "Epoch 75/200\n",
      "55000/55000 [==============================] - 155s - loss: 0.0546 - acc: 0.9841 - val_loss: 0.0369 - val_acc: 0.9878\n",
      "Epoch 76/200\n",
      "55000/55000 [==============================] - 153s - loss: 0.0533 - acc: 0.9845 - val_loss: 0.0411 - val_acc: 0.9871\n",
      "Epoch 77/200\n",
      "55000/55000 [==============================] - 154s - loss: 0.0551 - acc: 0.9840 - val_loss: 0.0401 - val_acc: 0.9874\n",
      "Epoch 78/200\n",
      "55000/55000 [==============================] - 155s - loss: 0.0524 - acc: 0.9839 - val_loss: 0.0379 - val_acc: 0.9877\n",
      "Epoch 79/200\n",
      "55000/55000 [==============================] - 154s - loss: 0.0535 - acc: 0.9835 - val_loss: 0.0373 - val_acc: 0.9878\n",
      "Epoch 80/200\n",
      "55000/55000 [==============================] - 154s - loss: 0.0533 - acc: 0.9839 - val_loss: 0.0373 - val_acc: 0.9883\n",
      "Epoch 81/200\n",
      "55000/55000 [==============================] - 155s - loss: 0.0531 - acc: 0.9837 - val_loss: 0.0369 - val_acc: 0.9879\n",
      "Epoch 82/200\n",
      "55000/55000 [==============================] - 154s - loss: 0.0519 - acc: 0.9844 - val_loss: 0.0374 - val_acc: 0.9879\n",
      "Epoch 83/200\n",
      "55000/55000 [==============================] - 154s - loss: 0.0530 - acc: 0.9839 - val_loss: 0.0367 - val_acc: 0.9881\n",
      "Epoch 84/200\n",
      "55000/55000 [==============================] - 154s - loss: 0.0541 - acc: 0.9839 - val_loss: 0.0365 - val_acc: 0.9884\n",
      "Epoch 85/200\n",
      "55000/55000 [==============================] - 154s - loss: 0.0545 - acc: 0.9841 - val_loss: 0.0361 - val_acc: 0.9885\n",
      "Epoch 86/200\n",
      "55000/55000 [==============================] - 154s - loss: 0.0553 - acc: 0.9839 - val_loss: 0.0350 - val_acc: 0.9891\n",
      "Epoch 87/200\n",
      "55000/55000 [==============================] - 153s - loss: 0.0538 - acc: 0.9838 - val_loss: 0.0377 - val_acc: 0.9873\n",
      "Epoch 88/200\n",
      "55000/55000 [==============================] - 155s - loss: 0.0546 - acc: 0.9838 - val_loss: 0.0365 - val_acc: 0.9894\n",
      "Epoch 89/200\n",
      "55000/55000 [==============================] - 154s - loss: 0.0539 - acc: 0.9846 - val_loss: 0.0356 - val_acc: 0.9891\n",
      "Epoch 90/200\n",
      "55000/55000 [==============================] - 154s - loss: 0.0534 - acc: 0.9830 - val_loss: 0.0374 - val_acc: 0.9886\n",
      "Epoch 91/200\n",
      "55000/55000 [==============================] - 155s - loss: 0.0545 - acc: 0.9842 - val_loss: 0.0372 - val_acc: 0.9888\n",
      "Epoch 92/200\n",
      "55000/55000 [==============================] - 147s - loss: 0.0554 - acc: 0.9835 - val_loss: 0.0360 - val_acc: 0.9881\n",
      "Epoch 93/200\n",
      "55000/55000 [==============================] - 146s - loss: 0.0520 - acc: 0.9845 - val_loss: 0.0357 - val_acc: 0.9891\n",
      "Epoch 94/200\n",
      "55000/55000 [==============================] - 154s - loss: 0.0521 - acc: 0.9845 - val_loss: 0.0367 - val_acc: 0.9883\n",
      "Epoch 95/200\n",
      "55000/55000 [==============================] - 154s - loss: 0.0527 - acc: 0.9837 - val_loss: 0.0375 - val_acc: 0.9882\n",
      "Epoch 96/200\n",
      "55000/55000 [==============================] - 163s - loss: 0.0512 - acc: 0.9844 - val_loss: 0.0411 - val_acc: 0.9885\n",
      "Epoch 97/200\n",
      "55000/55000 [==============================] - 166s - loss: 0.0533 - acc: 0.9843 - val_loss: 0.0371 - val_acc: 0.9884\n",
      "Epoch 98/200\n",
      "55000/55000 [==============================] - 162s - loss: 0.0523 - acc: 0.9849 - val_loss: 0.0380 - val_acc: 0.9884\n",
      "Epoch 99/200\n",
      "55000/55000 [==============================] - 162s - loss: 0.0539 - acc: 0.9839 - val_loss: 0.0372 - val_acc: 0.9895\n",
      "Epoch 100/200\n",
      "55000/55000 [==============================] - 160s - loss: 0.0533 - acc: 0.9840 - val_loss: 0.0370 - val_acc: 0.9887\n",
      "Epoch 101/200\n",
      "55000/55000 [==============================] - 164s - loss: 0.0537 - acc: 0.9836 - val_loss: 0.0369 - val_acc: 0.9882\n",
      "Epoch 102/200\n",
      "55000/55000 [==============================] - 163s - loss: 0.0543 - acc: 0.9838 - val_loss: 0.0359 - val_acc: 0.9886\n",
      "Epoch 103/200\n",
      "55000/55000 [==============================] - 168s - loss: 0.0535 - acc: 0.9847 - val_loss: 0.0359 - val_acc: 0.9886\n",
      "Epoch 104/200\n",
      "55000/55000 [==============================] - 168s - loss: 0.0525 - acc: 0.9845 - val_loss: 0.0367 - val_acc: 0.9884\n",
      "Epoch 105/200\n",
      "55000/55000 [==============================] - 167s - loss: 0.0543 - acc: 0.9834 - val_loss: 0.0367 - val_acc: 0.9878\n",
      "Epoch 106/200\n",
      "55000/55000 [==============================] - 167s - loss: 0.0527 - acc: 0.9845 - val_loss: 0.0372 - val_acc: 0.9894\n",
      "Epoch 107/200\n",
      "55000/55000 [==============================] - 161s - loss: 0.0530 - acc: 0.9845 - val_loss: 0.0437 - val_acc: 0.9876\n",
      "Epoch 108/200\n",
      "55000/55000 [==============================] - 162s - loss: 0.0513 - acc: 0.9847 - val_loss: 0.0362 - val_acc: 0.9885\n",
      "Epoch 109/200\n",
      "55000/55000 [==============================] - 162s - loss: 0.0512 - acc: 0.9846 - val_loss: 0.0365 - val_acc: 0.9885\n",
      "Epoch 110/200\n",
      "55000/55000 [==============================] - 159s - loss: 0.0505 - acc: 0.9846 - val_loss: 0.0361 - val_acc: 0.9894\n",
      "Epoch 111/200\n",
      "55000/55000 [==============================] - 160s - loss: 0.0534 - acc: 0.9845 - val_loss: 0.0413 - val_acc: 0.9877\n",
      "Epoch 112/200\n",
      "55000/55000 [==============================] - 164s - loss: 0.0523 - acc: 0.9842 - val_loss: 0.0359 - val_acc: 0.9886\n",
      "Epoch 113/200\n",
      "55000/55000 [==============================] - 165s - loss: 0.0507 - acc: 0.9847 - val_loss: 0.0382 - val_acc: 0.9885\n",
      "Epoch 114/200\n",
      "55000/55000 [==============================] - 162s - loss: 0.0531 - acc: 0.9843 - val_loss: 0.0378 - val_acc: 0.9885\n",
      "Epoch 115/200\n",
      "55000/55000 [==============================] - 168s - loss: 0.0504 - acc: 0.9845 - val_loss: 0.0360 - val_acc: 0.9890\n",
      "Epoch 116/200\n",
      "55000/55000 [==============================] - 174s - loss: 0.0519 - acc: 0.9846 - val_loss: 0.0381 - val_acc: 0.9876\n",
      "Epoch 117/200\n",
      "55000/55000 [==============================] - 174s - loss: 0.0529 - acc: 0.9842 - val_loss: 0.0390 - val_acc: 0.9883\n",
      "Epoch 118/200\n",
      "55000/55000 [==============================] - 171s - loss: 0.0518 - acc: 0.9843 - val_loss: 0.0367 - val_acc: 0.9891\n",
      "Epoch 119/200\n",
      "55000/55000 [==============================] - 171s - loss: 0.0515 - acc: 0.9847 - val_loss: 0.0368 - val_acc: 0.9893\n",
      "Epoch 120/200\n",
      "55000/55000 [==============================] - 173s - loss: 0.0513 - acc: 0.9845 - val_loss: 0.0356 - val_acc: 0.9894\n",
      "Epoch 121/200\n",
      "55000/55000 [==============================] - 172s - loss: 0.0517 - acc: 0.9850 - val_loss: 0.0357 - val_acc: 0.9897\n",
      "Epoch 122/200\n",
      "55000/55000 [==============================] - 166s - loss: 0.0520 - acc: 0.9839 - val_loss: 0.0394 - val_acc: 0.9877\n",
      "Epoch 123/200\n",
      "55000/55000 [==============================] - 157s - loss: 0.0518 - acc: 0.9841 - val_loss: 0.0358 - val_acc: 0.9900\n",
      "Epoch 124/200\n",
      "55000/55000 [==============================] - 156s - loss: 0.0521 - acc: 0.9849 - val_loss: 0.0375 - val_acc: 0.9884\n",
      "Epoch 125/200\n",
      "55000/55000 [==============================] - 163s - loss: 0.0519 - acc: 0.9845 - val_loss: 0.0363 - val_acc: 0.9890\n",
      "Epoch 126/200\n",
      "55000/55000 [==============================] - 158s - loss: 0.0507 - acc: 0.9850 - val_loss: 0.0378 - val_acc: 0.9877\n",
      "Epoch 127/200\n",
      "55000/55000 [==============================] - 158s - loss: 0.0513 - acc: 0.9845 - val_loss: 0.0370 - val_acc: 0.9892\n",
      "Epoch 128/200\n",
      "55000/55000 [==============================] - 158s - loss: 0.0488 - acc: 0.9854 - val_loss: 0.0381 - val_acc: 0.9887\n",
      "Epoch 129/200\n",
      "55000/55000 [==============================] - 162s - loss: 0.0499 - acc: 0.9850 - val_loss: 0.0383 - val_acc: 0.9885\n",
      "Epoch 130/200\n",
      "55000/55000 [==============================] - 194s - loss: 0.0520 - acc: 0.9852 - val_loss: 0.0362 - val_acc: 0.9891\n",
      "Epoch 131/200\n",
      "55000/55000 [==============================] - 180s - loss: 0.0495 - acc: 0.9852 - val_loss: 0.0364 - val_acc: 0.9890\n",
      "Epoch 132/200\n",
      "55000/55000 [==============================] - 160s - loss: 0.0511 - acc: 0.9840 - val_loss: 0.0362 - val_acc: 0.9895\n",
      "Epoch 133/200\n",
      "55000/55000 [==============================] - 161s - loss: 0.0498 - acc: 0.9856 - val_loss: 0.0374 - val_acc: 0.9891\n",
      "Epoch 134/200\n",
      "55000/55000 [==============================] - 156s - loss: 0.0507 - acc: 0.9850 - val_loss: 0.0358 - val_acc: 0.9885\n",
      "Epoch 135/200\n",
      "55000/55000 [==============================] - 158s - loss: 0.0484 - acc: 0.9858 - val_loss: 0.0341 - val_acc: 0.9887\n",
      "Epoch 136/200\n",
      "55000/55000 [==============================] - 160s - loss: 0.0483 - acc: 0.9853 - val_loss: 0.0351 - val_acc: 0.9892\n",
      "Epoch 137/200\n",
      "55000/55000 [==============================] - 162s - loss: 0.0492 - acc: 0.9844 - val_loss: 0.0329 - val_acc: 0.9893\n",
      "Epoch 138/200\n",
      "55000/55000 [==============================] - 164s - loss: 0.0502 - acc: 0.9851 - val_loss: 0.0385 - val_acc: 0.9891\n",
      "Epoch 139/200\n",
      "55000/55000 [==============================] - 160s - loss: 0.0494 - acc: 0.9852 - val_loss: 0.0385 - val_acc: 0.9891\n",
      "Epoch 140/200\n",
      "55000/55000 [==============================] - 156s - loss: 0.0511 - acc: 0.9849 - val_loss: 0.0384 - val_acc: 0.9893\n",
      "Epoch 141/200\n",
      "55000/55000 [==============================] - 154s - loss: 0.0500 - acc: 0.9845 - val_loss: 0.0356 - val_acc: 0.9887\n",
      "Epoch 142/200\n",
      "55000/55000 [==============================] - 155s - loss: 0.0489 - acc: 0.9856 - val_loss: 0.0353 - val_acc: 0.9900\n",
      "Epoch 143/200\n",
      "55000/55000 [==============================] - 159s - loss: 0.0485 - acc: 0.9859 - val_loss: 0.0363 - val_acc: 0.9895\n",
      "Epoch 144/200\n",
      "55000/55000 [==============================] - 152s - loss: 0.0494 - acc: 0.9851 - val_loss: 0.0400 - val_acc: 0.9885\n",
      "Epoch 145/200\n",
      "55000/55000 [==============================] - 146s - loss: 0.0523 - acc: 0.9848 - val_loss: 0.0413 - val_acc: 0.9880\n",
      "Epoch 146/200\n",
      "55000/55000 [==============================] - 149s - loss: 0.0488 - acc: 0.9850 - val_loss: 0.0430 - val_acc: 0.9877\n",
      "Epoch 147/200\n",
      "55000/55000 [==============================] - 149s - loss: 0.0487 - acc: 0.9857 - val_loss: 0.0376 - val_acc: 0.9890\n",
      "Epoch 148/200\n",
      "55000/55000 [==============================] - 148s - loss: 0.0491 - acc: 0.9853 - val_loss: 0.0370 - val_acc: 0.9886\n",
      "Epoch 149/200\n",
      "55000/55000 [==============================] - 148s - loss: 0.0490 - acc: 0.9853 - val_loss: 0.0369 - val_acc: 0.9896\n",
      "Epoch 150/200\n",
      "55000/55000 [==============================] - 147s - loss: 0.0504 - acc: 0.9850 - val_loss: 0.0343 - val_acc: 0.9897\n",
      "Epoch 151/200\n",
      "55000/55000 [==============================] - 146s - loss: 0.0489 - acc: 0.9853 - val_loss: 0.0385 - val_acc: 0.9883\n",
      "Epoch 152/200\n",
      "55000/55000 [==============================] - 148s - loss: 0.0499 - acc: 0.9858 - val_loss: 0.0350 - val_acc: 0.9898\n",
      "Epoch 153/200\n",
      "55000/55000 [==============================] - 147s - loss: 0.0496 - acc: 0.9852 - val_loss: 0.0356 - val_acc: 0.9899\n",
      "Epoch 154/200\n",
      "55000/55000 [==============================] - 147s - loss: 0.0480 - acc: 0.9850 - val_loss: 0.0415 - val_acc: 0.9885\n",
      "Epoch 155/200\n",
      "55000/55000 [==============================] - 147s - loss: 0.0499 - acc: 0.9851 - val_loss: 0.0365 - val_acc: 0.9894\n",
      "Epoch 156/200\n",
      "55000/55000 [==============================] - 147s - loss: 0.0487 - acc: 0.9851 - val_loss: 0.0351 - val_acc: 0.9902\n",
      "Epoch 157/200\n",
      "55000/55000 [==============================] - 147s - loss: 0.0481 - acc: 0.9856 - val_loss: 0.0348 - val_acc: 0.9891\n",
      "Epoch 158/200\n",
      "55000/55000 [==============================] - 148s - loss: 0.0485 - acc: 0.9856 - val_loss: 0.0350 - val_acc: 0.9897\n",
      "Epoch 159/200\n",
      "55000/55000 [==============================] - 151s - loss: 0.0463 - acc: 0.9858 - val_loss: 0.0379 - val_acc: 0.9898\n",
      "Epoch 160/200\n",
      "55000/55000 [==============================] - 150s - loss: 0.0477 - acc: 0.9861 - val_loss: 0.0352 - val_acc: 0.9904\n",
      "Epoch 161/200\n",
      "55000/55000 [==============================] - 156s - loss: 0.0450 - acc: 0.9864 - val_loss: 0.0372 - val_acc: 0.9901\n",
      "Epoch 162/200\n",
      "55000/55000 [==============================] - 155s - loss: 0.0499 - acc: 0.9851 - val_loss: 0.0358 - val_acc: 0.9899\n",
      "Epoch 163/200\n",
      "55000/55000 [==============================] - 158s - loss: 0.0491 - acc: 0.9855 - val_loss: 0.0350 - val_acc: 0.9885\n",
      "Epoch 164/200\n",
      "55000/55000 [==============================] - 157s - loss: 0.0488 - acc: 0.9855 - val_loss: 0.0353 - val_acc: 0.9905\n",
      "Epoch 165/200\n",
      "55000/55000 [==============================] - 161s - loss: 0.0458 - acc: 0.9857 - val_loss: 0.0365 - val_acc: 0.9894\n",
      "Epoch 166/200\n",
      "55000/55000 [==============================] - 151s - loss: 0.0473 - acc: 0.9859 - val_loss: 0.0355 - val_acc: 0.9896\n",
      "Epoch 167/200\n",
      "55000/55000 [==============================] - 153s - loss: 0.0481 - acc: 0.9855 - val_loss: 0.0354 - val_acc: 0.9899\n",
      "Epoch 168/200\n",
      "55000/55000 [==============================] - 153s - loss: 0.0452 - acc: 0.9866 - val_loss: 0.0368 - val_acc: 0.9887\n",
      "Epoch 169/200\n",
      "55000/55000 [==============================] - 152s - loss: 0.0486 - acc: 0.9854 - val_loss: 0.0328 - val_acc: 0.9897\n",
      "Epoch 170/200\n",
      "55000/55000 [==============================] - 153s - loss: 0.0466 - acc: 0.9867 - val_loss: 0.0344 - val_acc: 0.9887\n",
      "Epoch 171/200\n",
      "55000/55000 [==============================] - 154s - loss: 0.0470 - acc: 0.9860 - val_loss: 0.0368 - val_acc: 0.9891\n",
      "Epoch 172/200\n",
      "55000/55000 [==============================] - 155s - loss: 0.0448 - acc: 0.9862 - val_loss: 0.0348 - val_acc: 0.9887\n",
      "Epoch 179/200\n",
      "55000/55000 [==============================] - 152s - loss: 0.0465 - acc: 0.9859 - val_loss: 0.0356 - val_acc: 0.9898\n",
      "Epoch 180/200\n",
      "55000/55000 [==============================] - 160s - loss: 0.0481 - acc: 0.9852 - val_loss: 0.0360 - val_acc: 0.9880\n",
      "Epoch 181/200\n",
      "55000/55000 [==============================] - 158s - loss: 0.0471 - acc: 0.9858 - val_loss: 0.0383 - val_acc: 0.9888\n",
      "Epoch 182/200\n",
      "55000/55000 [==============================] - 156s - loss: 0.0466 - acc: 0.9865 - val_loss: 0.0339 - val_acc: 0.9905\n",
      "Epoch 183/200\n",
      "55000/55000 [==============================] - 161s - loss: 0.0456 - acc: 0.9861 - val_loss: 0.0333 - val_acc: 0.9897\n",
      "Epoch 184/200\n",
      "55000/55000 [==============================] - 162s - loss: 0.0447 - acc: 0.9865 - val_loss: 0.0330 - val_acc: 0.9895\n",
      "Epoch 185/200\n",
      "55000/55000 [==============================] - 159s - loss: 0.0438 - acc: 0.9870 - val_loss: 0.0360 - val_acc: 0.9897\n",
      "Epoch 187/200\n",
      "55000/55000 [==============================] - 157s - loss: 0.0438 - acc: 0.9871 - val_loss: 0.0370 - val_acc: 0.9895\n",
      "Epoch 188/200\n",
      "55000/55000 [==============================] - 156s - loss: 0.0461 - acc: 0.9857 - val_loss: 0.0352 - val_acc: 0.9898\n",
      "Epoch 189/200\n",
      "55000/55000 [==============================] - 157s - loss: 0.0472 - acc: 0.9854 - val_loss: 0.0341 - val_acc: 0.9904\n",
      "Epoch 190/200\n",
      "55000/55000 [==============================] - 156s - loss: 0.0456 - acc: 0.9860 - val_loss: 0.0338 - val_acc: 0.9897\n",
      "Epoch 191/200\n",
      "55000/55000 [==============================] - 155s - loss: 0.0432 - acc: 0.9869 - val_loss: 0.0362 - val_acc: 0.9901\n",
      "Epoch 192/200\n",
      "55000/55000 [==============================] - 156s - loss: 0.0465 - acc: 0.9867 - val_loss: 0.0412 - val_acc: 0.9884\n",
      "Epoch 193/200\n",
      "55000/55000 [==============================] - 156s - loss: 0.0456 - acc: 0.9860 - val_loss: 0.0371 - val_acc: 0.9888\n",
      "Epoch 194/200\n",
      "55000/55000 [==============================] - 156s - loss: 0.0457 - acc: 0.9863 - val_loss: 0.0332 - val_acc: 0.9891\n",
      "Epoch 195/200\n",
      "55000/55000 [==============================] - 149s - loss: 0.0475 - acc: 0.9857 - val_loss: 0.0330 - val_acc: 0.9899\n",
      "Epoch 196/200\n",
      "55000/55000 [==============================] - 145s - loss: 0.0459 - acc: 0.9863 - val_loss: 0.0343 - val_acc: 0.9888\n",
      "Epoch 197/200\n",
      "55000/55000 [==============================] - 146s - loss: 0.0435 - acc: 0.9868 - val_loss: 0.0372 - val_acc: 0.9892\n",
      "Epoch 198/200\n",
      "55000/55000 [==============================] - 148s - loss: 0.0414 - acc: 0.9880 - val_loss: 0.0358 - val_acc: 0.9887\n",
      "Epoch 199/200\n",
      "55000/55000 [==============================] - 149s - loss: 0.0436 - acc: 0.9869 - val_loss: 0.0355 - val_acc: 0.9896\n",
      "Epoch 200/200\n",
      "55000/55000 [==============================] - 151s - loss: 0.0438 - acc: 0.9869 - val_loss: 0.0336 - val_acc: 0.9904\n"
     ]
    }
   ],
   "source": [
    "start = time.clock()\n",
    "\n",
    "model.fit(x_train, y_train,\n",
    "          batch_size=batch_size,\n",
    "          epochs=epochs,\n",
    "          verbose=1,\n",
    "          validation_data=(x_test, y_test))\n",
    "score = model.evaluate(x_test, y_test, verbose=0)\n",
    "\n",
    "ke_score = score[1]\n",
    "\n",
    "ke_time = time.clock() - start"
   ]
  },
  {
   "cell_type": "code",
   "execution_count": null,
   "metadata": {
    "collapsed": false,
    "slideshow": {
     "slide_type": "subslide"
    }
   },
   "outputs": [
    {
     "data": {
      "text/plain": [
       "0.99039999999999995"
      ]
     },
     "execution_count": 31,
     "metadata": {},
     "output_type": "execute_result"
    }
   ],
   "source": [
    "ke_score"
   ]
  },
  {
   "cell_type": "code",
   "execution_count": null,
   "metadata": {
    "collapsed": false,
    "slideshow": {
     "slide_type": "subslide"
    }
   },
   "outputs": [
    {
     "data": {
      "text/plain": [
       "184656.268011"
      ]
     },
     "execution_count": 32,
     "metadata": {},
     "output_type": "execute_result"
    }
   ],
   "source": [
    "ke_time"
   ]
  },
  {
   "cell_type": "markdown",
   "metadata": {
    "slideshow": {
     "slide_type": "slide"
    }
   },
   "source": [
    "## Comparing the Accuracies of various algorithms"
   ]
  },
  {
   "cell_type": "code",
   "execution_count": 35,
   "metadata": {
    "collapsed": false,
    "slideshow": {
     "slide_type": "subslide"
    }
   },
   "outputs": [],
   "source": [
    "import numpy as  np\n",
    "scores = [knn_score, svm_score, dt_score,  et_score, rf_score, gbm_score, tf_score, ke_score]\n",
    "\n",
    "#Converting to percentage\n",
    "scores = scores*np.array(100)\n",
    "names = ['KNN', 'SVM', 'DT', 'ET', 'RF', 'GBM', 'TF', 'Ke']\n"
   ]
  },
  {
   "cell_type": "code",
   "execution_count": 37,
   "metadata": {
    "collapsed": false,
    "slideshow": {
     "slide_type": "subslide"
    }
   },
   "outputs": [
    {
     "data": {
      "text/html": [
       "<iframe id=\"igraph\" scrolling=\"no\" style=\"border:none;\" seamless=\"seamless\" src=\"https://plot.ly/~sauravkaushik8/243.embed\" height=\"525px\" width=\"100%\"></iframe>"
      ],
      "text/plain": [
       "<plotly.tools.PlotlyDisplay object>"
      ]
     },
     "execution_count": 37,
     "metadata": {},
     "output_type": "execute_result"
    }
   ],
   "source": [
    "import plotly\n",
    "#Setting plotly credentials\n",
    "plotly.tools.set_credentials_file(username='XXX', api_key='XXX')\n",
    "\n",
    "import plotly.plotly as py\n",
    "import plotly.graph_objs as go\n",
    "\n",
    "data = [go.Bar(x=names,y=scores)]\n",
    "\n",
    "layout = go.Layout(title='Accuracies of various algorithms for MNIST Data Set',\n",
    "xaxis=dict(title='Algorithms'),\n",
    "yaxis=dict(title='Accuracy (in %)')\n",
    ")\n",
    "\n",
    "fig = go.Figure(data=data, layout=layout)\n",
    "py.iplot(fig)"
   ]
  },
  {
   "cell_type": "markdown",
   "metadata": {
    "slideshow": {
     "slide_type": "slide"
    }
   },
   "source": [
    "## Comparing the Training Times of various algorithms"
   ]
  },
  {
   "cell_type": "code",
   "execution_count": 38,
   "metadata": {
    "collapsed": false,
    "slideshow": {
     "slide_type": "subslide"
    }
   },
   "outputs": [],
   "source": [
    "times = [knn_time, svm_time, dt_time, et_time, rf_time, gbm_time, tf_time, ke_time]\n",
    "names = ['KNN', 'SVM', 'DT', 'ET', 'RF', 'GBM', 'TF', 'Ke']\n"
   ]
  },
  {
   "cell_type": "code",
   "execution_count": 39,
   "metadata": {
    "collapsed": false,
    "slideshow": {
     "slide_type": "subslide"
    }
   },
   "outputs": [
    {
     "data": {
      "text/html": [
       "<iframe id=\"igraph\" scrolling=\"no\" style=\"border:none;\" seamless=\"seamless\" src=\"https://plot.ly/~sauravkaushik8/245.embed\" height=\"525px\" width=\"100%\"></iframe>"
      ],
      "text/plain": [
       "<plotly.tools.PlotlyDisplay object>"
      ]
     },
     "execution_count": 39,
     "metadata": {},
     "output_type": "execute_result"
    }
   ],
   "source": [
    "data = [go.Bar(x=names,y=times)]\n",
    "\n",
    "layout = go.Layout(title='Training Time taken by of various algorithms for MNIST Data Set',\n",
    "xaxis=dict(title='Algorithms'),\n",
    "yaxis=dict(title='Time (in sec)')\n",
    ")\n",
    "\n",
    "fig = go.Figure(data=data, layout=layout)\n",
    "py.iplot(fig)"
   ]
  },
  {
   "cell_type": "markdown",
   "metadata": {
    "slideshow": {
     "slide_type": "slide"
    }
   },
   "source": [
    "## Training Time Vs Accuracy Trade-Off"
   ]
  },
  {
   "cell_type": "code",
   "execution_count": 40,
   "metadata": {
    "collapsed": false,
    "slideshow": {
     "slide_type": "subslide"
    }
   },
   "outputs": [
    {
     "data": {
      "text/html": [
       "<iframe id=\"igraph\" scrolling=\"no\" style=\"border:none;\" seamless=\"seamless\" src=\"https://plot.ly/~sauravkaushik8/247.embed\" height=\"525px\" width=\"100%\"></iframe>"
      ],
      "text/plain": [
       "<plotly.tools.PlotlyDisplay object>"
      ]
     },
     "execution_count": 40,
     "metadata": {},
     "output_type": "execute_result"
    }
   ],
   "source": [
    "data = [go.Scatter(x = times,y = scores,mode = 'markers+text', text = names,textposition='bottom'\n",
    ")]\n",
    "\n",
    "layout = go.Layout(title='Time Taken Vs Accuracy for various algorithms on MNIST Dataset',\n",
    "xaxis=dict(title='Time (in Sec)'),\n",
    "yaxis=dict(title='Accuracy (in %)'))\n",
    "\n",
    "fig = go.Figure(data=data, layout=layout)\n",
    "\n",
    "py.iplot(fig)"
   ]
  },
  {
   "cell_type": "markdown",
   "metadata": {
    "slideshow": {
     "slide_type": "slide"
    }
   },
   "source": [
    "# THANK YOU\n",
    "\n",
    "### Any Questions, Querries, Suggestions, Feedbacks? "
   ]
  }
 ],
 "metadata": {
  "celltoolbar": "Slideshow",
  "kernelspec": {
   "display_name": "Python 3",
   "language": "python",
   "name": "python3"
  },
  "language_info": {
   "codemirror_mode": {
    "name": "ipython",
    "version": 3
   },
   "file_extension": ".py",
   "mimetype": "text/x-python",
   "name": "python",
   "nbconvert_exporter": "python",
   "pygments_lexer": "ipython3",
   "version": "3.4.3"
  },
  "widgets": {
   "state": {},
   "version": "1.1.2"
  }
 },
 "nbformat": 4,
 "nbformat_minor": 0
}
